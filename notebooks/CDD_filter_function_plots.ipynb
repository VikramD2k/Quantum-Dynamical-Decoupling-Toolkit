{
 "cells": [
  {
   "cell_type": "code",
   "execution_count": 6,
   "id": "b7971688",
   "metadata": {},
   "outputs": [
    {
     "name": "stderr",
     "output_type": "stream",
     "text": [
      "\u001b[32m\u001b[1m  Activating\u001b[22m\u001b[39m project at `c:\\Users\\vikra\\OneDrive\\Desktop\\project`\n"
     ]
    }
   ],
   "source": [
    "include(\"c:/Users/vikra/OneDrive/Desktop/project/src/QuantumDD/QuantumDD.jl\")\n",
    "cd(\"c:/Users/vikra/OneDrive/Desktop/project\")\n",
    "using Pkg\n",
    "Pkg.activate(\".\")\n",
    "using .QuantumDD, Plots"
   ]
  },
  {
   "cell_type": "code",
   "execution_count": 1,
   "id": "d0381de9",
   "metadata": {},
   "outputs": [
    {
     "data": {
      "text/plain": [
       "F_cdd_vec (generic function with 1 method)"
      ]
     },
     "metadata": {},
     "output_type": "display_data"
    }
   ],
   "source": [
    "function F₀(ω, τ)\n",
    "    return (sin(ω * τ / 2) / (ω / 2 + 1e-12))^2\n",
    "end\n",
    "\n",
    "function F_cdd(ω, τ, ℓ)\n",
    "    if ℓ == 0\n",
    "        return F₀(ω, τ)\n",
    "    else\n",
    "        return sin(ω * τ / 4)^2 * F_cdd(ω / 2, τ / 2, ℓ - 1)\n",
    "    end\n",
    "end\n",
    "function F_cdd_vec(ω_vec, τ, ℓ)\n",
    "    return [F_cdd(ω, τ, ℓ) for ω in ω_vec]\n",
    "end"
   ]
  },
  {
   "cell_type": "code",
   "execution_count": 3,
   "id": "aec8aa63",
   "metadata": {},
   "outputs": [],
   "source": [
    "ω = range(-10, 10, length=1000)\n",
    "τ_list = [1.0, 2.0, 3.0, 4.0]\n",
    "ℓ_list = [1, 2, 3, 4]\n",
    "\n",
    "for τ in τ_list, ℓ in ℓ_list\n",
    "    F_vals = F_cdd_vec(ω, τ, ℓ)\n",
    "    plot(ω, F_vals, xlabel=\"ω\", ylabel=\"F(ω, τ)\", title=\"CDD: τ=$τ, ℓ=$ℓ\", lw=2, legend=false)\n",
    "    savefig(\"CDD_filter_tau_$(Int(τ))_level_$ℓ.png\")\n",
    "end"
   ]
  },
  {
   "cell_type": "code",
   "execution_count": 8,
   "id": "aaa0f980",
   "metadata": {},
   "outputs": [],
   "source": [
    "ω = range(-10, 10, length=1000)\n",
    "τ_list = [1.0, 2.0, 3.0, 4.0]\n",
    "n_list = [1,2,4,6, 8, 10]\n",
    "# Plot and save\n",
    "for τ in τ_list, n in n_list\n",
    "    F_vals = filter_udd(collect(ω), τ, n)\n",
    "    plot(ω, F_vals, xlabel=\"ω\", ylabel=\"F(ω)\", title=\"UDD: τ=$τ, n=$n\", lw=2, legend=false)\n",
    "    savefig(\"UDD_filter_tau_$(Int(τ))_n_$n.png\")\n",
    "end"
   ]
  }
 ],
 "metadata": {
  "kernelspec": {
   "display_name": "Julia 1.11.5",
   "language": "julia",
   "name": "julia-1.11"
  },
  "language_info": {
   "file_extension": ".jl",
   "mimetype": "application/julia",
   "name": "julia",
   "version": "1.11.5"
  }
 },
 "nbformat": 4,
 "nbformat_minor": 5
}

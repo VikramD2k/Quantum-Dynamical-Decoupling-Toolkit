{
 "cells": [
  {
   "cell_type": "code",
   "execution_count": null,
   "id": "5a7b6389",
   "metadata": {
    "vscode": {
     "languageId": "julia"
    }
   },
   "outputs": [],
   "source": [
    "include(\"c:/Users/vikra/OneDrive/Desktop/project/src/QuantumDD/QuantumDD.jl\")\n",
    "cd(\"c:/Users/vikra/OneDrive/Desktop/project\")\n",
    "using Pkg\n",
    "Pkg.activate(\".\")\n",
    "using .QuantumDD, Plots, LsqFit, FFTW"
   ]
  },
  {
   "cell_type": "code",
   "execution_count": null,
   "id": "6d5c40e6",
   "metadata": {
    "vscode": {
     "languageId": "julia"
    }
   },
   "outputs": [],
   "source": [
    "parameters = get_preset_params(\"white\")\n",
    "S_func = ω-> S(ω; parameters...)\n",
    "# Run Hahn echo simulation\n",
    "T_max = 1.0         # Total maximum evolution time\n",
    "n_realizations = 1000 # Number of noise samples\n",
    "σ = 1.0\n",
    "dt = 1e-1             # Time step (resolution of T values)\n",
    "\n"
   ]
  }
 ],
 "metadata": {
  "language_info": {
   "name": "python"
  }
 },
 "nbformat": 4,
 "nbformat_minor": 5
}
